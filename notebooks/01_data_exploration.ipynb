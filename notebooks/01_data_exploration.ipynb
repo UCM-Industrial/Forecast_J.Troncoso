{
 "cells": [
  {
   "cell_type": "markdown",
   "metadata": {},
   "source": [
    "# Data exploration\n",
    "Explore the temporal structure of production data of renewable by center, technology (solar, wind, hydro, etc.), identify basic patterns, evaluate the quality of weather data, and detect possible relationship between climate variables, technology type of technology, demand and production\n"
   ]
  },
  {
   "cell_type": "markdown",
   "metadata": {},
   "source": [
    "## Imports\n"
   ]
  },
  {
   "cell_type": "markdown",
   "metadata": {},
   "source": [
    "### Third party packages\n"
   ]
  },
  {
   "cell_type": "code",
   "execution_count": 1,
   "metadata": {},
   "outputs": [],
   "source": [
    "import sys\n",
    "from pathlib import Path\n",
    "\n",
    "import matplotlib.pyplot as plt\n",
    "import pandas as pd\n",
    "import seaborn as sns\n"
   ]
  },
  {
   "cell_type": "markdown",
   "metadata": {},
   "source": [
    "### First party modules\n"
   ]
  },
  {
   "cell_type": "code",
   "execution_count": 2,
   "metadata": {},
   "outputs": [],
   "source": [
    "# Get the project root\n",
    "ROOT_DIR = Path.cwd().parent\n",
    "sys.path.append(str(ROOT_DIR))"
   ]
  },
  {
   "cell_type": "code",
   "execution_count": 3,
   "metadata": {},
   "outputs": [],
   "source": [
    "from src.data import filter_by_date_range, make_date_columns  # type: ignore\n"
   ]
  },
  {
   "cell_type": "markdown",
   "metadata": {},
   "source": [
    "### Optional packages"
   ]
  },
  {
   "cell_type": "code",
   "execution_count": 4,
   "metadata": {},
   "outputs": [],
   "source": [
    "try:\n",
    "    from catppuccin import PALETTE  # Just for aesthetic proposes\n",
    "    catppuccin_imported = True\n",
    "except ImportError:\n",
    "    print(\"The catppuccin package is not installed, no matter :), plots will use the default visual configuration.\")\n",
    "    catppuccin_imported = False"
   ]
  },
  {
   "cell_type": "code",
   "execution_count": 5,
   "metadata": {},
   "outputs": [],
   "source": [
    "if catppuccin_imported:\n",
    "    # Choose a flavor (latte, frappe, macchiato, mocha)\n",
    "    flavor = PALETTE.mocha\n",
    "\n",
    "    # Extract colors as hex values in a dict for easy access\n",
    "    colors = {color.name.lower().replace(' ', '_'): color.hex for color in flavor.colors}\n",
    "\n",
    "    # Define color cycle for plots (select the colors you want to use)\n",
    "    color_cycle = [\n",
    "        colors['blue'], colors['red'], colors['green'], \n",
    "        colors['yellow'], colors['pink'], colors['teal'],\n",
    "        colors['peach'], colors['mauve'], colors['lavender']\n",
    "    ]\n",
    "\n",
    "    # Configure matplotlib\n",
    "    plt.rcParams['axes.prop_cycle'] = plt.cycler(color=color_cycle)\n",
    "    plt.rcParams['axes.facecolor'] = colors['base']\n",
    "    plt.rcParams['figure.facecolor'] = colors['mantle']\n",
    "    plt.rcParams['text.color'] = colors['text']\n",
    "    plt.rcParams['axes.labelcolor'] = colors['text']\n",
    "    plt.rcParams['xtick.color'] = colors['subtext_1'] \n",
    "    plt.rcParams['ytick.color'] = colors['subtext_1']\n",
    "    plt.rcParams['axes.edgecolor'] = colors['surface_2']\n",
    "    plt.rcParams['grid.color'] = colors['surface_0']\n",
    "\n",
    "    # Configure seaborn\n",
    "    sns.set_palette(color_cycle)\n",
    "    sns.set_style({\n",
    "        'axes.facecolor': colors['base'],\n",
    "        'figure.facecolor': colors['mantle'],\n",
    "        'text.color': colors['text'],\n",
    "        'axes.labelcolor': colors['text'],\n",
    "        'xtick.color': colors['subtext_1'],\n",
    "        'ytick.color': colors['subtext_1'],\n",
    "        'axes.edgecolor': colors['surface_2'],\n",
    "        'grid.color': colors['surface_0']\n",
    "    })"
   ]
  },
  {
   "cell_type": "markdown",
   "metadata": {},
   "source": [
    "## Data\n"
   ]
  },
  {
   "cell_type": "markdown",
   "metadata": {},
   "source": [
    "### Load data"
   ]
  },
  {
   "cell_type": "code",
   "execution_count": 6,
   "metadata": {},
   "outputs": [],
   "source": [
    "# Change for \"../data/raw/daily_energy_production.csv\" for a classic path\n",
    "data_path = ROOT_DIR / \"data\" / \"raw\"\n",
    "historic_data_path = ROOT_DIR / \"data\" / \"processed\" / \"csv_files\"\n",
    "\n",
    "demand_path = data_path / \"hourly_demand.csv\"\n",
    "generation_path = data_path / \"hourly_generation.csv\"\n",
    "historic_data_path_csv = historic_data_path / \"2025-1.csv\"\n",
    "\n",
    "historic = pd.read_csv(historic_data_path_csv)\n",
    "demand = pd.read_csv(demand_path)\n",
    "generation = pd.read_csv(generation_path)"
   ]
  },
  {
   "cell_type": "markdown",
   "metadata": {},
   "source": [
    "### Format data"
   ]
  },
  {
   "cell_type": "code",
   "execution_count": 7,
   "metadata": {},
   "outputs": [],
   "source": [
    "# Rename columns with more readable names\n",
    "demand = demand.rename(\n",
    "    columns={\n",
    "        \"fecha\": \"date\",\n",
    "        \"hora\": \"hour\",\n",
    "        \"demanda\": \"demand\",\n",
    "    },\n",
    ")\n",
    "generation = generation.rename(\n",
    "    columns={\n",
    "        \"Fecha y Hora\": \"datetime\",\n",
    "        \"Tipo Tecnología\": \"tech_type\",\n",
    "        \"Generación Real (MWh)\": \"generation_mwh\",\n",
    "    },\n",
    ")"
   ]
  },
  {
   "cell_type": "code",
   "execution_count": 8,
   "metadata": {},
   "outputs": [],
   "source": [
    "# Convert date columns to datetime\n",
    "generation[\"datetime\"] = pd.to_datetime(generation[\"datetime\"])\n",
    "demand[\"date\"] = pd.to_datetime(demand[\"date\"])\n",
    "historic[\"fecha_opreal\"] = pd.to_datetime(historic[\"fecha_opreal\"])\n",
    "\n",
    "# Add date columns\n",
    "generation_processed = make_date_columns(generation, \"datetime\", use_24_hour=True)\n",
    "demand_processed = make_date_columns(demand, \"date\", components=[\"year\", \"month\", \"day\"])\n",
    "\n",
    "# Add date to align with the demand `date` and drop the unnecessary `datetime`\n",
    "generation_processed[\"date\"] = pd.to_datetime(generation_processed[\"datetime\"].dt.date)\n",
    "generation_processed = generation_processed.drop(columns=\"datetime\")"
   ]
  },
  {
   "cell_type": "code",
   "execution_count": 9,
   "metadata": {},
   "outputs": [
    {
     "data": {
      "text/plain": [
       "hour\n",
       "1     3646\n",
       "2     3654\n",
       "3     3654\n",
       "4     3654\n",
       "5     3654\n",
       "6     3654\n",
       "7     3654\n",
       "8     3654\n",
       "9     3654\n",
       "10    3654\n",
       "11    3654\n",
       "12    3654\n",
       "13    3654\n",
       "14    3654\n",
       "15    3654\n",
       "16    3654\n",
       "17    3654\n",
       "18    3654\n",
       "19    3654\n",
       "20    3654\n",
       "21    3654\n",
       "22    3654\n",
       "23    3654\n",
       "24    3654\n",
       "25       9\n",
       "Name: count, dtype: int64"
      ]
     },
     "execution_count": 9,
     "metadata": {},
     "output_type": "execute_result"
    }
   ],
   "source": [
    "demand_processed[\"hour\"].value_counts().sort_index()"
   ]
  },
  {
   "cell_type": "markdown",
   "metadata": {},
   "source": [
    "There is 9 values for 25, that is inconsistent with the 24 hours at the day. Also, the hour 1 have 8 values less than the others, this could be because of hour changes in Chile. So a possible approach could be convert these nine 25 values to 1 instead."
   ]
  },
  {
   "cell_type": "code",
   "execution_count": 10,
   "metadata": {},
   "outputs": [],
   "source": [
    "# Convert hour outliers (25 hour to 1)\n",
    "demand_processed[\"hour\"] = demand_processed[\"hour\"].replace(25, 1)\n",
    "# Convert demand values to float\n",
    "demand_processed[\"demand\"] = pd.to_numeric(demand_processed[\"demand\"].str.replace(\",\", \".\"))"
   ]
  },
  {
   "cell_type": "markdown",
   "metadata": {},
   "source": [
    "### Data Wrangling"
   ]
  },
  {
   "cell_type": "code",
   "execution_count": 11,
   "metadata": {},
   "outputs": [],
   "source": [
    "demand_processed = demand_processed.rename(columns={\"date\": \"fecha_opreal\", \"hour\": \"hora_opreal\"})"
   ]
  },
  {
   "cell_type": "code",
   "execution_count": 12,
   "metadata": {},
   "outputs": [],
   "source": [
    "start_date = \"2025-01-01\"\n",
    "end_date = \"2025-04-23\"\n",
    "\n",
    "demand_ranged = filter_by_date_range(demand_processed, \"fecha_opreal\", start_date, end_date)\n",
    "generation_ranged = filter_by_date_range(historic, \"fecha_opreal\", start_date, end_date)"
   ]
  },
  {
   "cell_type": "code",
   "execution_count": 13,
   "metadata": {},
   "outputs": [
    {
     "data": {
      "text/html": [
       "<div>\n",
       "<style scoped>\n",
       "    .dataframe tbody tr th:only-of-type {\n",
       "        vertical-align: middle;\n",
       "    }\n",
       "\n",
       "    .dataframe tbody tr th {\n",
       "        vertical-align: top;\n",
       "    }\n",
       "\n",
       "    .dataframe thead th {\n",
       "        text-align: right;\n",
       "    }\n",
       "</style>\n",
       "<table border=\"1\" class=\"dataframe\">\n",
       "  <thead>\n",
       "    <tr style=\"text-align: right;\">\n",
       "      <th></th>\n",
       "      <th>fecha_opreal</th>\n",
       "      <th>hora_opreal</th>\n",
       "      <th>nemotecnico</th>\n",
       "      <th>nombre</th>\n",
       "      <th>central_nombre</th>\n",
       "      <th>central_infotecnica_id</th>\n",
       "      <th>coordinado</th>\n",
       "      <th>central_tipo</th>\n",
       "      <th>central_tipo_nemotecnico</th>\n",
       "      <th>subtipo</th>\n",
       "      <th>subtipo_nemotecnico</th>\n",
       "      <th>grupo_reporte_nombre</th>\n",
       "      <th>generacion_real_mwh</th>\n",
       "      <th>generacion_real_ernc_mwh</th>\n",
       "    </tr>\n",
       "  </thead>\n",
       "  <tbody>\n",
       "    <tr>\n",
       "      <th>0</th>\n",
       "      <td>2025-01-01</td>\n",
       "      <td>1</td>\n",
       "      <td>ecantera</td>\n",
       "      <td>PMGD PFV Cantera</td>\n",
       "      <td>PMGD PFV CANTERA</td>\n",
       "      <td>1992</td>\n",
       "      <td>GPG GENERACIÓN DISTRIBUIDA SPA</td>\n",
       "      <td>Solar</td>\n",
       "      <td>solar</td>\n",
       "      <td>Solar</td>\n",
       "      <td>solar</td>\n",
       "      <td>PMGD PFV Cantera</td>\n",
       "      <td>0.0</td>\n",
       "      <td>0.0</td>\n",
       "    </tr>\n",
       "    <tr>\n",
       "      <th>1</th>\n",
       "      <td>2025-01-01</td>\n",
       "      <td>2</td>\n",
       "      <td>ecantera</td>\n",
       "      <td>PMGD PFV Cantera</td>\n",
       "      <td>PMGD PFV CANTERA</td>\n",
       "      <td>1992</td>\n",
       "      <td>GPG GENERACIÓN DISTRIBUIDA SPA</td>\n",
       "      <td>Solar</td>\n",
       "      <td>solar</td>\n",
       "      <td>Solar</td>\n",
       "      <td>solar</td>\n",
       "      <td>PMGD PFV Cantera</td>\n",
       "      <td>0.0</td>\n",
       "      <td>0.0</td>\n",
       "    </tr>\n",
       "    <tr>\n",
       "      <th>2</th>\n",
       "      <td>2025-01-01</td>\n",
       "      <td>3</td>\n",
       "      <td>ecantera</td>\n",
       "      <td>PMGD PFV Cantera</td>\n",
       "      <td>PMGD PFV CANTERA</td>\n",
       "      <td>1992</td>\n",
       "      <td>GPG GENERACIÓN DISTRIBUIDA SPA</td>\n",
       "      <td>Solar</td>\n",
       "      <td>solar</td>\n",
       "      <td>Solar</td>\n",
       "      <td>solar</td>\n",
       "      <td>PMGD PFV Cantera</td>\n",
       "      <td>0.0</td>\n",
       "      <td>0.0</td>\n",
       "    </tr>\n",
       "    <tr>\n",
       "      <th>3</th>\n",
       "      <td>2025-01-01</td>\n",
       "      <td>4</td>\n",
       "      <td>ecantera</td>\n",
       "      <td>PMGD PFV Cantera</td>\n",
       "      <td>PMGD PFV CANTERA</td>\n",
       "      <td>1992</td>\n",
       "      <td>GPG GENERACIÓN DISTRIBUIDA SPA</td>\n",
       "      <td>Solar</td>\n",
       "      <td>solar</td>\n",
       "      <td>Solar</td>\n",
       "      <td>solar</td>\n",
       "      <td>PMGD PFV Cantera</td>\n",
       "      <td>0.0</td>\n",
       "      <td>0.0</td>\n",
       "    </tr>\n",
       "    <tr>\n",
       "      <th>4</th>\n",
       "      <td>2025-01-01</td>\n",
       "      <td>5</td>\n",
       "      <td>ecantera</td>\n",
       "      <td>PMGD PFV Cantera</td>\n",
       "      <td>PMGD PFV CANTERA</td>\n",
       "      <td>1992</td>\n",
       "      <td>GPG GENERACIÓN DISTRIBUIDA SPA</td>\n",
       "      <td>Solar</td>\n",
       "      <td>solar</td>\n",
       "      <td>Solar</td>\n",
       "      <td>solar</td>\n",
       "      <td>PMGD PFV Cantera</td>\n",
       "      <td>0.0</td>\n",
       "      <td>0.0</td>\n",
       "    </tr>\n",
       "  </tbody>\n",
       "</table>\n",
       "</div>"
      ],
      "text/plain": [
       "  fecha_opreal  hora_opreal nemotecnico            nombre    central_nombre  \\\n",
       "0   2025-01-01            1    ecantera  PMGD PFV Cantera  PMGD PFV CANTERA   \n",
       "1   2025-01-01            2    ecantera  PMGD PFV Cantera  PMGD PFV CANTERA   \n",
       "2   2025-01-01            3    ecantera  PMGD PFV Cantera  PMGD PFV CANTERA   \n",
       "3   2025-01-01            4    ecantera  PMGD PFV Cantera  PMGD PFV CANTERA   \n",
       "4   2025-01-01            5    ecantera  PMGD PFV Cantera  PMGD PFV CANTERA   \n",
       "\n",
       "   central_infotecnica_id                      coordinado central_tipo  \\\n",
       "0                    1992  GPG GENERACIÓN DISTRIBUIDA SPA        Solar   \n",
       "1                    1992  GPG GENERACIÓN DISTRIBUIDA SPA        Solar   \n",
       "2                    1992  GPG GENERACIÓN DISTRIBUIDA SPA        Solar   \n",
       "3                    1992  GPG GENERACIÓN DISTRIBUIDA SPA        Solar   \n",
       "4                    1992  GPG GENERACIÓN DISTRIBUIDA SPA        Solar   \n",
       "\n",
       "  central_tipo_nemotecnico subtipo subtipo_nemotecnico grupo_reporte_nombre  \\\n",
       "0                    solar   Solar               solar     PMGD PFV Cantera   \n",
       "1                    solar   Solar               solar     PMGD PFV Cantera   \n",
       "2                    solar   Solar               solar     PMGD PFV Cantera   \n",
       "3                    solar   Solar               solar     PMGD PFV Cantera   \n",
       "4                    solar   Solar               solar     PMGD PFV Cantera   \n",
       "\n",
       "   generacion_real_mwh  generacion_real_ernc_mwh  \n",
       "0                  0.0                       0.0  \n",
       "1                  0.0                       0.0  \n",
       "2                  0.0                       0.0  \n",
       "3                  0.0                       0.0  \n",
       "4                  0.0                       0.0  "
      ]
     },
     "execution_count": 13,
     "metadata": {},
     "output_type": "execute_result"
    }
   ],
   "source": [
    "historic.head()"
   ]
  },
  {
   "cell_type": "code",
   "execution_count": 14,
   "metadata": {},
   "outputs": [],
   "source": [
    "granularity = [\"fecha_opreal\", \"hora_opreal\"]\n",
    "demand_grouped = demand_ranged.groupby(by=granularity)[[\"demand\"]].sum().reset_index()\n",
    "generation_grouped = generation_ranged.groupby(by=[*granularity, \"central_tipo_nemotecnico\", \"subtipo_nemotecnico\"])[[\"generacion_real_mwh\"]].sum().reset_index()"
   ]
  },
  {
   "cell_type": "code",
   "execution_count": 15,
   "metadata": {},
   "outputs": [],
   "source": [
    "merged = generation_grouped.merge(demand_grouped, how=\"inner\", on=[\"fecha_opreal\", \"hora_opreal\"])"
   ]
  },
  {
   "cell_type": "markdown",
   "metadata": {},
   "source": [
    "## Visualization"
   ]
  },
  {
   "cell_type": "code",
   "execution_count": 30,
   "metadata": {},
   "outputs": [],
   "source": [
    "pivot = historic.pivot_table(\n",
    "    index=[\"fecha_opreal\", \"hora_opreal\"],\n",
    "    columns=\"central_tipo_nemotecnico\",\n",
    "    values=\"generacion_real_mwh\",\n",
    "    aggfunc=\"sum\",\n",
    ")"
   ]
  },
  {
   "cell_type": "code",
   "execution_count": 37,
   "metadata": {},
   "outputs": [],
   "source": [
    "energy_sources = historic[\"central_tipo_nemotecnico\"].unique()\n",
    "pivot = pivot.reset_index().groupby(\"hora_opreal\")[[*energy_sources]].sum().reset_index()"
   ]
  },
  {
   "cell_type": "code",
   "execution_count": null,
   "metadata": {},
   "outputs": [
    {
     "data": {
      "image/png": "[encoded data removed]",
      "text/plain": [
       "<Figure size 1200x800 with 1 Axes>"
      ]
     },
     "metadata": {},
     "output_type": "display_data"
    }
   ],
   "source": [
    "# Create a stacked area chart\n",
    "plt.figure(figsize=(12, 8))\n",
    "\n",
    "# Create the stacked area chart\n",
    "plt.stackplot(pivot.index, \n",
    "              pivot['eolica'], \n",
    "              pivot['geotermica'], \n",
    "              pivot['hidraulica'], \n",
    "              pivot['solar'], \n",
    "              pivot['termica'],\n",
    "              labels=['Eolica', 'Geotermica', 'Hidraulica', 'Solar', 'Termica'],\n",
    "              alpha=0.8)\n",
    "\n",
    "# Add labels and title\n",
    "plt.xlabel(\"Hour\")\n",
    "plt.ylabel(\"Generation (MWh)\")\n",
    "plt.title(\"Energy Generation by Type\")\n",
    "plt.legend(loc=\"upper right\")\n",
    "\n",
    "# Add grid\n",
    "plt.grid(True, alpha=0.5)\n",
    "\n",
    "# Show the plot\n",
    "plt.tight_layout()\n",
    "plt.show()"
   ]
  },
  {
   "cell_type": "code",
   "execution_count": 118,
   "metadata": {},
   "outputs": [
    {
     "data": {
      "text/html": [
       "<div>\n",
       "<style scoped>\n",
       "    .dataframe tbody tr th:only-of-type {\n",
       "        vertical-align: middle;\n",
       "    }\n",
       "\n",
       "    .dataframe tbody tr th {\n",
       "        vertical-align: top;\n",
       "    }\n",
       "\n",
       "    .dataframe thead th {\n",
       "        text-align: right;\n",
       "    }\n",
       "</style>\n",
       "<table border=\"1\" class=\"dataframe\">\n",
       "  <thead>\n",
       "    <tr style=\"text-align: right;\">\n",
       "      <th></th>\n",
       "      <th>fecha_opreal</th>\n",
       "      <th>hora_opreal</th>\n",
       "      <th>nemotecnico</th>\n",
       "      <th>nombre</th>\n",
       "      <th>central_nombre</th>\n",
       "      <th>central_infotecnica_id</th>\n",
       "      <th>coordinado</th>\n",
       "      <th>central_tipo</th>\n",
       "      <th>central_tipo_nemotecnico</th>\n",
       "      <th>subtipo</th>\n",
       "      <th>subtipo_nemotecnico</th>\n",
       "      <th>grupo_reporte_nombre</th>\n",
       "      <th>generacion_real_mwh</th>\n",
       "      <th>generacion_real_ernc_mwh</th>\n",
       "    </tr>\n",
       "  </thead>\n",
       "  <tbody>\n",
       "    <tr>\n",
       "      <th>0</th>\n",
       "      <td>2025-01-01</td>\n",
       "      <td>1</td>\n",
       "      <td>ecantera</td>\n",
       "      <td>PMGD PFV Cantera</td>\n",
       "      <td>PMGD PFV CANTERA</td>\n",
       "      <td>1992</td>\n",
       "      <td>GPG GENERACIÓN DISTRIBUIDA SPA</td>\n",
       "      <td>Solar</td>\n",
       "      <td>solar</td>\n",
       "      <td>Solar</td>\n",
       "      <td>solar</td>\n",
       "      <td>PMGD PFV Cantera</td>\n",
       "      <td>0.0</td>\n",
       "      <td>0.0</td>\n",
       "    </tr>\n",
       "    <tr>\n",
       "      <th>1</th>\n",
       "      <td>2025-01-01</td>\n",
       "      <td>2</td>\n",
       "      <td>ecantera</td>\n",
       "      <td>PMGD PFV Cantera</td>\n",
       "      <td>PMGD PFV CANTERA</td>\n",
       "      <td>1992</td>\n",
       "      <td>GPG GENERACIÓN DISTRIBUIDA SPA</td>\n",
       "      <td>Solar</td>\n",
       "      <td>solar</td>\n",
       "      <td>Solar</td>\n",
       "      <td>solar</td>\n",
       "      <td>PMGD PFV Cantera</td>\n",
       "      <td>0.0</td>\n",
       "      <td>0.0</td>\n",
       "    </tr>\n",
       "    <tr>\n",
       "      <th>2</th>\n",
       "      <td>2025-01-01</td>\n",
       "      <td>3</td>\n",
       "      <td>ecantera</td>\n",
       "      <td>PMGD PFV Cantera</td>\n",
       "      <td>PMGD PFV CANTERA</td>\n",
       "      <td>1992</td>\n",
       "      <td>GPG GENERACIÓN DISTRIBUIDA SPA</td>\n",
       "      <td>Solar</td>\n",
       "      <td>solar</td>\n",
       "      <td>Solar</td>\n",
       "      <td>solar</td>\n",
       "      <td>PMGD PFV Cantera</td>\n",
       "      <td>0.0</td>\n",
       "      <td>0.0</td>\n",
       "    </tr>\n",
       "    <tr>\n",
       "      <th>3</th>\n",
       "      <td>2025-01-01</td>\n",
       "      <td>4</td>\n",
       "      <td>ecantera</td>\n",
       "      <td>PMGD PFV Cantera</td>\n",
       "      <td>PMGD PFV CANTERA</td>\n",
       "      <td>1992</td>\n",
       "      <td>GPG GENERACIÓN DISTRIBUIDA SPA</td>\n",
       "      <td>Solar</td>\n",
       "      <td>solar</td>\n",
       "      <td>Solar</td>\n",
       "      <td>solar</td>\n",
       "      <td>PMGD PFV Cantera</td>\n",
       "      <td>0.0</td>\n",
       "      <td>0.0</td>\n",
       "    </tr>\n",
       "    <tr>\n",
       "      <th>4</th>\n",
       "      <td>2025-01-01</td>\n",
       "      <td>5</td>\n",
       "      <td>ecantera</td>\n",
       "      <td>PMGD PFV Cantera</td>\n",
       "      <td>PMGD PFV CANTERA</td>\n",
       "      <td>1992</td>\n",
       "      <td>GPG GENERACIÓN DISTRIBUIDA SPA</td>\n",
       "      <td>Solar</td>\n",
       "      <td>solar</td>\n",
       "      <td>Solar</td>\n",
       "      <td>solar</td>\n",
       "      <td>PMGD PFV Cantera</td>\n",
       "      <td>0.0</td>\n",
       "      <td>0.0</td>\n",
       "    </tr>\n",
       "  </tbody>\n",
       "</table>\n",
       "</div>"
      ],
      "text/plain": [
       "  fecha_opreal  hora_opreal nemotecnico            nombre    central_nombre  \\\n",
       "0   2025-01-01            1    ecantera  PMGD PFV Cantera  PMGD PFV CANTERA   \n",
       "1   2025-01-01            2    ecantera  PMGD PFV Cantera  PMGD PFV CANTERA   \n",
       "2   2025-01-01            3    ecantera  PMGD PFV Cantera  PMGD PFV CANTERA   \n",
       "3   2025-01-01            4    ecantera  PMGD PFV Cantera  PMGD PFV CANTERA   \n",
       "4   2025-01-01            5    ecantera  PMGD PFV Cantera  PMGD PFV CANTERA   \n",
       "\n",
       "   central_infotecnica_id                      coordinado central_tipo  \\\n",
       "0                    1992  GPG GENERACIÓN DISTRIBUIDA SPA        Solar   \n",
       "1                    1992  GPG GENERACIÓN DISTRIBUIDA SPA        Solar   \n",
       "2                    1992  GPG GENERACIÓN DISTRIBUIDA SPA        Solar   \n",
       "3                    1992  GPG GENERACIÓN DISTRIBUIDA SPA        Solar   \n",
       "4                    1992  GPG GENERACIÓN DISTRIBUIDA SPA        Solar   \n",
       "\n",
       "  central_tipo_nemotecnico subtipo subtipo_nemotecnico grupo_reporte_nombre  \\\n",
       "0                    solar   Solar               solar     PMGD PFV Cantera   \n",
       "1                    solar   Solar               solar     PMGD PFV Cantera   \n",
       "2                    solar   Solar               solar     PMGD PFV Cantera   \n",
       "3                    solar   Solar               solar     PMGD PFV Cantera   \n",
       "4                    solar   Solar               solar     PMGD PFV Cantera   \n",
       "\n",
       "   generacion_real_mwh  generacion_real_ernc_mwh  \n",
       "0                  0.0                       0.0  \n",
       "1                  0.0                       0.0  \n",
       "2                  0.0                       0.0  \n",
       "3                  0.0                       0.0  \n",
       "4                  0.0                       0.0  "
      ]
     },
     "execution_count": 118,
     "metadata": {},
     "output_type": "execute_result"
    }
   ],
   "source": [
    "historic.head()"
   ]
  },
  {
   "cell_type": "code",
   "execution_count": 117,
   "metadata": {},
   "outputs": [
    {
     "data": {
      "text/plain": [
       "array(['solar', 'cogeneracion', 'pasada', 'biomasa', 'diesel',\n",
       "       'gas-natural', 'eolica', 'embalse', 'carbon', 'fuel-oil', 'biogas',\n",
       "       'geotermica', 'pet-coke'], dtype=object)"
      ]
     },
     "execution_count": 117,
     "metadata": {},
     "output_type": "execute_result"
    }
   ],
   "source": [
    "historic[\"subtipo_nemotecnico\"].unique()"
   ]
  },
  {
   "cell_type": "code",
   "execution_count": 154,
   "metadata": {},
   "outputs": [
    {
     "data": {
      "text/html": [
       "<div>\n",
       "<style scoped>\n",
       "    .dataframe tbody tr th:only-of-type {\n",
       "        vertical-align: middle;\n",
       "    }\n",
       "\n",
       "    .dataframe tbody tr th {\n",
       "        vertical-align: top;\n",
       "    }\n",
       "\n",
       "    .dataframe thead th {\n",
       "        text-align: right;\n",
       "    }\n",
       "</style>\n",
       "<table border=\"1\" class=\"dataframe\">\n",
       "  <thead>\n",
       "    <tr style=\"text-align: right;\">\n",
       "      <th></th>\n",
       "      <th>central_tipo_nemotecnico</th>\n",
       "      <th>eolica</th>\n",
       "      <th>geotermica</th>\n",
       "      <th>hidraulica</th>\n",
       "      <th>solar</th>\n",
       "      <th>termica</th>\n",
       "    </tr>\n",
       "    <tr>\n",
       "      <th>fecha_opreal</th>\n",
       "      <th>hora_opreal</th>\n",
       "      <th></th>\n",
       "      <th></th>\n",
       "      <th></th>\n",
       "      <th></th>\n",
       "      <th></th>\n",
       "    </tr>\n",
       "  </thead>\n",
       "  <tbody>\n",
       "    <tr>\n",
       "      <th rowspan=\"5\" valign=\"top\">2025-01-01</th>\n",
       "      <th>1</th>\n",
       "      <td>1758.151393</td>\n",
       "      <td>18.50</td>\n",
       "      <td>4079.326029</td>\n",
       "      <td>0.270661</td>\n",
       "      <td>2765.407100</td>\n",
       "    </tr>\n",
       "    <tr>\n",
       "      <th>2</th>\n",
       "      <td>1700.131981</td>\n",
       "      <td>18.39</td>\n",
       "      <td>3926.373761</td>\n",
       "      <td>0.301668</td>\n",
       "      <td>3053.674783</td>\n",
       "    </tr>\n",
       "    <tr>\n",
       "      <th>3</th>\n",
       "      <td>1663.942078</td>\n",
       "      <td>18.60</td>\n",
       "      <td>3667.416525</td>\n",
       "      <td>0.345789</td>\n",
       "      <td>3383.769830</td>\n",
       "    </tr>\n",
       "    <tr>\n",
       "      <th>4</th>\n",
       "      <td>1653.727099</td>\n",
       "      <td>18.69</td>\n",
       "      <td>3530.619425</td>\n",
       "      <td>1.001229</td>\n",
       "      <td>3425.589537</td>\n",
       "    </tr>\n",
       "    <tr>\n",
       "      <th>5</th>\n",
       "      <td>1624.697985</td>\n",
       "      <td>19.10</td>\n",
       "      <td>3399.627758</td>\n",
       "      <td>2.271713</td>\n",
       "      <td>3418.604387</td>\n",
       "    </tr>\n",
       "  </tbody>\n",
       "</table>\n",
       "</div>"
      ],
      "text/plain": [
       "central_tipo_nemotecnico       eolica  geotermica   hidraulica     solar  \\\n",
       "fecha_opreal hora_opreal                                                   \n",
       "2025-01-01   1            1758.151393       18.50  4079.326029  0.270661   \n",
       "             2            1700.131981       18.39  3926.373761  0.301668   \n",
       "             3            1663.942078       18.60  3667.416525  0.345789   \n",
       "             4            1653.727099       18.69  3530.619425  1.001229   \n",
       "             5            1624.697985       19.10  3399.627758  2.271713   \n",
       "\n",
       "central_tipo_nemotecnico      termica  \n",
       "fecha_opreal hora_opreal               \n",
       "2025-01-01   1            2765.407100  \n",
       "             2            3053.674783  \n",
       "             3            3383.769830  \n",
       "             4            3425.589537  \n",
       "             5            3418.604387  "
      ]
     },
     "execution_count": 154,
     "metadata": {},
     "output_type": "execute_result"
    }
   ],
   "source": [
    "pivot.head()"
   ]
  },
  {
   "cell_type": "code",
   "execution_count": null,
   "metadata": {},
   "outputs": [],
   "source": [
    "pivot[\"ernc\"] = pivot[\"solar\"] + pivot[\"eolica\"] + pivot[\"geotermica\"]"
   ]
  }
 ],
 "metadata": {
  "kernelspec": {
   "display_name": ".venv",
   "language": "python",
   "name": "python3"
  },
  "language_info": {
   "codemirror_mode": {
    "name": "ipython",
    "version": 3
   },
   "file_extension": ".py",
   "mimetype": "text/x-python",
   "name": "python",
   "nbconvert_exporter": "python",
   "pygments_lexer": "ipython3",
   "version": "3.13.0"
  }
 },
 "nbformat": 4,
 "nbformat_minor": 2
}
